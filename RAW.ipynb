{
 "cells": [
  {
   "cell_type": "code",
   "execution_count": 6,
   "metadata": {
    "executionInfo": {
     "elapsed": 6,
     "status": "ok",
     "timestamp": 1744773534938,
     "user": {
      "displayName": "Ngân Nguyễn Phan Phương",
      "userId": "17356233241585755292"
     },
     "user_tz": -420
    },
    "id": "OQPUpmqi8YDz"
   },
   "outputs": [],
   "source": [
    "import os\n",
    "import re"
   ]
  },
  {
   "cell_type": "code",
   "execution_count": 7,
   "metadata": {
    "executionInfo": {
     "elapsed": 5,
     "status": "ok",
     "timestamp": 1744773536175,
     "user": {
      "displayName": "Ngân Nguyễn Phan Phương",
      "userId": "17356233241585755292"
     },
     "user_tz": -420
    },
    "id": "2tX8FCDlkCJX"
   },
   "outputs": [],
   "source": [
    "# Đường dẫn đến các file cần xử lý\n",
    "input_files = {\n",
    "    \"dev\": \"dev.txt\"\n",
    "}"
   ]
  },
  {
   "cell_type": "code",
   "execution_count": 8,
   "metadata": {
    "colab": {
     "base_uri": "https://localhost:8080/"
    },
    "executionInfo": {
     "elapsed": 318,
     "status": "ok",
     "timestamp": 1744770639706,
     "user": {
      "displayName": "Ngân Nguyễn Phan Phương",
      "userId": "17356233241585755292"
     },
     "user_tz": -420
    },
    "id": "fiLejhuBkERL",
    "outputId": "8ceeebbf-69c3-4e5b-a7ee-9a5bdbe7f118"
   },
   "outputs": [
    {
     "name": "stdout",
     "output_type": "stream",
     "text": [
      "✅ Đã xử lý: dev.txt → dev_no_pos.txt\n",
      "📂 Đã tạo: dev_no_pos\\dev_set_1.txt\n",
      "📂 Đã tạo: dev_no_pos\\dev_set_2.txt\n",
      "📂 Đã tạo: dev_no_pos\\dev_set_3.txt\n",
      "📂 Đã tạo: dev_no_pos\\dev_set_4.txt\n",
      "📂 Đã tạo: dev_no_pos\\dev_set_5.txt\n",
      "📂 Đã tạo: dev_no_pos\\dev_set_6.txt\n",
      "📂 Đã tạo: dev_no_pos\\dev_set_7.txt\n",
      "📂 Đã tạo: dev_no_pos\\dev_set_8.txt\n",
      "📂 Đã tạo: dev_no_pos\\dev_set_9.txt\n",
      "📂 Đã tạo: dev_no_pos\\dev_set_10.txt\n",
      "📂 Đã tạo: dev_no_pos\\dev_set_11.txt\n",
      "📂 Đã tạo: dev_no_pos\\dev_set_12.txt\n",
      "📂 Đã tạo: dev_no_pos\\dev_set_13.txt\n",
      "📂 Đã tạo: dev_no_pos\\dev_set_14.txt\n",
      "📂 Đã tạo: dev_no_pos\\dev_set_15.txt\n",
      "📂 Đã tạo: dev_no_pos\\dev_set_16.txt\n",
      "📂 Đã tạo: dev_no_pos\\dev_set_17.txt\n",
      "📂 Đã tạo: dev_no_pos\\dev_set_18.txt\n",
      "📂 Đã tạo: dev_no_pos\\dev_set_19.txt\n",
      "📂 Đã tạo: dev_no_pos\\dev_set_20.txt\n"
     ]
    }
   ],
   "source": [
    "def get_unique_filename(directory, base_name, extension):\n",
    "    \"\"\"Tạo tên tệp không trùng lặp bằng cách thêm số phiên bản nếu trùng.\"\"\"\n",
    "    version = 1\n",
    "    output_path = os.path.join(directory, f\"{base_name}{extension}\")\n",
    "    while os.path.exists(output_path):\n",
    "        output_path = os.path.join(\n",
    "            directory, f\"{base_name}_{version}{extension}\")\n",
    "        version += 1\n",
    "    return output_path\n",
    "\n",
    "\n",
    "def remove_pos_tags(sentence):\n",
    "    \"\"\"Loại bỏ nhãn POS trong một câu từ bộ VietTreebank.\"\"\"\n",
    "    sentence = re.sub(r'\\b([^\\s/]+)/[^\\s/]+\\b',\n",
    "                      r'\\1', sentence)  # Xóa nhãn POS\n",
    "    sentence = re.sub(r'\\*(EXP|T)\\*[\\W]*', '', sentence)  # Xóa *EXP* và *T*\n",
    "    sentence = re.sub(r'[,.\\\"\\':;()?!/]+', lambda m: m.group(0)[0]\n",
    "                      # Giữ dấu hợp lệ\n",
    "                      if len(m.group(0)) > 1 else '', sentence)\n",
    "    # Chuẩn hóa `......` thành `...`\n",
    "    sentence = re.sub(r'\\s*\\.{6}', '...', sentence)\n",
    "    sentence = re.sub(r'\\s*……', '…', sentence)  # Chuẩn hóa `……` thành `…`\n",
    "\n",
    "    # Thêm <s> và </s> nếu là câu hoàn chỉnh\n",
    "    if sentence.endswith(('.', '!', '?')):\n",
    "        sentence = f\"<s> {sentence} </s>\"\n",
    "\n",
    "    return sentence.strip()\n",
    "\n",
    "\n",
    "def process_viettreebank(file_path, output_name):\n",
    "    \"\"\"Loại bỏ nhãn POS trên file đầu vào và lưu file đã xử lý vào thư mục gốc.\"\"\"\n",
    "    with open(file_path, 'r', encoding='utf-8') as f:\n",
    "        sentences = f.readlines()\n",
    "\n",
    "    processed_sentences = [remove_pos_tags(\n",
    "        sentence.strip()) for sentence in sentences]\n",
    "    input_dir = os.path.dirname(file_path)  # Lấy thư mục gốc\n",
    "    output_path = os.path.join(\n",
    "        input_dir, f\"{output_name}.txt\")  # Tạo tên file mới\n",
    "\n",
    "    with open(output_path, 'w', encoding='utf-8') as f:\n",
    "        f.write('\\n'.join(processed_sentences))\n",
    "\n",
    "    print(f\"✅ Đã xử lý: {file_path} → {output_path}\")\n",
    "    return output_path\n",
    "\n",
    "\n",
    "def split_into_sets(file_path, output_folder, set_size=50, num_sets=20):\n",
    "    \"\"\"Chia file thành 10 set, mỗi set chứa 50 câu.\"\"\"\n",
    "    with open(file_path, 'r', encoding='utf-8') as f:\n",
    "        sentences = [line.strip() for line in f.readlines()\n",
    "                     if line.strip()]  # Loại bỏ dòng trống\n",
    "\n",
    "    os.makedirs(output_folder, exist_ok=True)  # Tạo thư mục nếu chưa có\n",
    "\n",
    "    # Chỉ tạo số set cần thiết nếu số câu ít hơn 500\n",
    "    total_sets = min(num_sets, (len(sentences) + set_size - 1) // set_size)\n",
    "\n",
    "    for i in range(total_sets):\n",
    "        start_idx = i * set_size\n",
    "        end_idx = start_idx + set_size\n",
    "        subset = sentences[start_idx:end_idx]\n",
    "\n",
    "        if not subset:\n",
    "            break  # Nếu hết câu, dừng lại\n",
    "\n",
    "        set_filename = os.path.join(output_folder, f\"dev_set_{i+1}.txt\")\n",
    "        with open(set_filename, 'w', encoding='utf-8') as f:\n",
    "            f.writelines('\\n'.join(subset) + '\\n')\n",
    "\n",
    "        print(f\"📂 Đã tạo: {set_filename}\")\n",
    "\n",
    "\n",
    "# Chạy xử lý xóa POS\n",
    "dev_output = process_viettreebank(input_files[\"dev\"], \"dev_no_pos\")\n",
    "\n",
    "# Chia thành 10 set (mỗi set 50 câu) và lưu vào thư mục tương ứng\n",
    "split_into_sets(\n",
    "    dev_output, \"dev_no_pos\")"
   ]
  }
 ],
 "metadata": {
  "colab": {
   "authorship_tag": "ABX9TyMfz9QDgm+jgX43HAW+hAVe",
   "provenance": []
  },
  "kernelspec": {
   "display_name": ".venv",
   "language": "python",
   "name": "python3"
  },
  "language_info": {
   "codemirror_mode": {
    "name": "ipython",
    "version": 3
   },
   "file_extension": ".py",
   "mimetype": "text/x-python",
   "name": "python",
   "nbconvert_exporter": "python",
   "pygments_lexer": "ipython3",
   "version": "3.10.11"
  }
 },
 "nbformat": 4,
 "nbformat_minor": 0
}
