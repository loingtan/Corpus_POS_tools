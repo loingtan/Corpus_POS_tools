{
 "cells": [
  {
   "cell_type": "code",
   "execution_count": 6,
   "metadata": {
    "executionInfo": {
     "elapsed": 4,
     "status": "ok",
     "timestamp": 1747763160382,
     "user": {
      "displayName": "Lợi Nguyễn Tấn",
      "userId": "16136565501077106771"
     },
     "user_tz": -420
    },
    "id": "Oro1hhHPrS42"
   },
   "outputs": [],
   "source": [
    "import re\n",
    "\n",
    "\n",
    "def tokenize(s):\n",
    "    tokens = re.findall(r'\\(|\\)|[^\\s()]+', s)\n",
    "    return tokens\n",
    "\n",
    "\n",
    "def parse(tokens):\n",
    "\n",
    "    if len(tokens) == 0:\n",
    "        raise ValueError(\"Không có token nào!\")\n",
    "    token = tokens.pop(0)\n",
    "    if token != '(':\n",
    "        return token\n",
    "    lst = []\n",
    "    while tokens and tokens[0] != ')':\n",
    "        lst.append(parse(tokens))\n",
    "    if tokens:\n",
    "        tokens.pop(0)  # loại bỏ dấu ')'\n",
    "    return lst\n",
    "\n",
    "\n",
    "def extract_leaves(tree):\n",
    "\n",
    "    leaves = []\n",
    "    if isinstance(tree, list):\n",
    "        if len(tree) == 2 and isinstance(tree[0], str) and isinstance(tree[1], str):\n",
    "\n",
    "            tag_parts = tree[0].split('-')\n",
    "            tag = tag_parts[0]\n",
    "            token = tree[1]\n",
    "\n",
    "            if tag not in ['-NONE-', 'LBKT', 'RBKT']:\n",
    "                leaves.append((token, tag))\n",
    "        else:\n",
    "            for subtree in tree:\n",
    "                leaves.extend(extract_leaves(subtree))\n",
    "    return leaves\n",
    "\n",
    "\n",
    "def convert_line_to_pos(line):\n",
    "\n",
    "    try:\n",
    "        tokens = tokenize(line)\n",
    "        tree = parse(tokens)\n",
    "        pos_pairs = extract_leaves(tree)\n",
    "        return pos_pairs\n",
    "    except Exception as e:\n",
    "        print(f\"Lỗi khi parse dòng: {e}\")\n",
    "        return []\n",
    "\n",
    "\n",
    "def read_treebank_and_convert_to_pos(input_file_path, output_file_path):\n",
    "\n",
    "    with open(input_file_path, 'r', encoding='utf-8') as infile:\n",
    "        with open(output_file_path, 'w', encoding='utf-8') as outfile:\n",
    "            for line_num, line in enumerate(infile, 1):\n",
    "                try:\n",
    "                    line = line.strip()\n",
    "\n",
    "                    if not line or line.startswith('//'):\n",
    "                        continue\n",
    "\n",
    "                    pos_pairs = convert_line_to_pos(line)\n",
    "                    if pos_pairs:\n",
    "\n",
    "                        pos_line = \" \".join(\n",
    "                            f\"{token}/{tag}\" for token, tag in pos_pairs)\n",
    "                        outfile.write(pos_line + \"\\n\")\n",
    "                except Exception as e:\n",
    "                    print(f\"Lỗi khi xử lý dòng {line_num}: {e}\")\n",
    "                    print(f\"Nội dung dòng: {line[:100]}...\")"
   ]
  },
  {
   "cell_type": "code",
   "execution_count": 7,
   "metadata": {
    "colab": {
     "base_uri": "https://localhost:8080/",
     "height": 332
    },
    "executionInfo": {
     "elapsed": 34,
     "status": "error",
     "timestamp": 1747763248849,
     "user": {
      "displayName": "Lợi Nguyễn Tấn",
      "userId": "16136565501077106771"
     },
     "user_tz": -420
    },
    "id": "EPsGJvVuuklq",
    "outputId": "ca5242ed-f9b1-4ed6-a883-96052ee00bb7"
   },
   "outputs": [
    {
     "name": "stdout",
     "output_type": "stream",
     "text": [
      "Đã chuyển đổi dữ liệu từ C:\\Users\\09398\\Subject\\Corpus\\vn_treebank.txt sang C:\\Users\\09398\\Subject\\Corpus\\vn_pos.txt\n"
     ]
    }
   ],
   "source": [
    "\n",
    "input_file = r'C:\\Users\\09398\\Subject\\Corpus\\vn_treebank.txt'\n",
    "output_file = r'C:\\Users\\09398\\Subject\\Corpus\\vn_pos.txt'\n",
    "read_treebank_and_convert_to_pos(input_file, output_file)\n",
    "print(f\"Đã chuyển đổi dữ liệu từ {input_file} sang {output_file}\")"
   ]
  }
 ],
 "metadata": {
  "colab": {
   "provenance": []
  },
  "kernelspec": {
   "display_name": ".venv",
   "language": "python",
   "name": "python3"
  },
  "language_info": {
   "codemirror_mode": {
    "name": "ipython",
    "version": 3
   },
   "file_extension": ".py",
   "mimetype": "text/x-python",
   "name": "python",
   "nbconvert_exporter": "python",
   "pygments_lexer": "ipython3",
   "version": "3.10.11"
  }
 },
 "nbformat": 4,
 "nbformat_minor": 0
}
