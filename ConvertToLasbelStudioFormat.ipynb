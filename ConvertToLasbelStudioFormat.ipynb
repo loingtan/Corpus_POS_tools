{
 "cells": [
  {
   "cell_type": "code",
   "execution_count": 2,
   "metadata": {
    "colab": {
     "base_uri": "https://localhost:8080/"
    },
    "executionInfo": {
     "elapsed": 403,
     "status": "ok",
     "timestamp": 1743158092802,
     "user": {
      "displayName": "Ngân Nguyễn Phan Phương",
      "userId": "17356233241585755292"
     },
     "user_tz": -420
    },
    "id": "im8L6m_Uoii9",
    "outputId": "caa5a535-5c50-4204-de9f-6a87360ca0cd"
   },
   "outputs": [
    {
     "name": "stdout",
     "output_type": "stream",
     "text": [
      "✅ Conversion completed! Check 'test_set_1_output_pos.json'\n"
     ]
    }
   ],
   "source": [
    "import os\n",
    "import json\n",
    "\n",
    "input_file = r'pre_annotate_label\\text_files\\test_set_1.txt'\n",
    "\n",
    "with open(input_file, 'r', encoding='utf-8') as file:\n",
    "    lines = [line.strip() for line in file if line.strip()]\n",
    "\n",
    "output_data = [{\"data\": {\"text\": line}}\n",
    "               for line in lines]  # Xác định tên tệp đầu ra\n",
    "output_file = \"test_set_1_output_pos.json\"\n",
    "with open(output_file, 'w', encoding='utf-8') as json_file:\n",
    "    json.dump(output_data, json_file, ensure_ascii=False, indent=2)\n",
    "\n",
    "print(f\"✅ Conversion completed! Check '{output_file}'\")"
   ]
  }
 ],
 "metadata": {
  "colab": {
   "provenance": []
  },
  "kernelspec": {
   "display_name": ".venv",
   "language": "python",
   "name": "python3"
  },
  "language_info": {
   "codemirror_mode": {
    "name": "ipython",
    "version": 3
   },
   "file_extension": ".py",
   "mimetype": "text/x-python",
   "name": "python",
   "nbconvert_exporter": "python",
   "pygments_lexer": "ipython3",
   "version": "3.10.11"
  }
 },
 "nbformat": 4,
 "nbformat_minor": 0
}
