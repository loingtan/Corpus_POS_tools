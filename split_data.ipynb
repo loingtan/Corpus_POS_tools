{
 "cells": [
  {
   "cell_type": "code",
   "execution_count": 3,
   "metadata": {
    "colab": {
     "base_uri": "https://localhost:8080/"
    },
    "executionInfo": {
     "elapsed": 103,
     "status": "ok",
     "timestamp": 1742959644745,
     "user": {
      "displayName": "Ngân Nguyễn Phan Phương",
      "userId": "17356233241585755292"
     },
     "user_tz": -420
    },
    "id": "jIpytoMkeQmY",
    "outputId": "f08154d1-be79-45ca-ba4c-82983bcf61b6"
   },
   "outputs": [
    {
     "name": "stdout",
     "output_type": "stream",
     "text": [
      "✅ Đã chia xong! Train: 8353, Dev: 1044, Test: 1045\n",
      "📂 Dữ liệu đã lưu vào thư mục: C:\\Users\\09398\\Subject\\Corpus\n"
     ]
    }
   ],
   "source": [
    "import os\n",
    "import random\n",
    "\n",
    "\n",
    "# Đường dẫn đến file dữ liệu gốc\n",
    "file_path = r\"C:\\Users\\09398\\Subject\\Corpus\\vn_pos.txt\"\n",
    "\n",
    "# Lấy thư mục chứa file gốc\n",
    "output_dir = os.path.dirname(file_path)  # Thư mục Corpus\n",
    "\n",
    "# Đọc dữ liệu từ file\n",
    "with open(file_path, \"r\", encoding=\"utf-8\") as f:\n",
    "    lines = f.readlines()\n",
    "\n",
    "# Shuffle dữ liệu để tránh bias nếu dữ liệu có thứ tự\n",
    "random.shuffle(lines)\n",
    "\n",
    "# Chia tỷ lệ (80% train, 10% dev, 10% test)\n",
    "train_ratio = 0.8\n",
    "dev_ratio = 0.1\n",
    "test_ratio = 0.1\n",
    "\n",
    "# Tính số lượng mẫu cho mỗi tập\n",
    "total_samples = len(lines)\n",
    "train_size = int(total_samples * train_ratio)\n",
    "dev_size = int(total_samples * dev_ratio)\n",
    "\n",
    "# Chia dữ liệu\n",
    "train_data = lines[:train_size]\n",
    "dev_data = lines[train_size:train_size + dev_size]\n",
    "test_data = lines[train_size + dev_size:]\n",
    "\n",
    "# Lưu các tập dữ liệu vào cùng thư mục Corpus\n",
    "train_path = os.path.join(output_dir, \"train.txt\")\n",
    "dev_path = os.path.join(output_dir, \"dev.txt\")\n",
    "test_path = os.path.join(output_dir, \"test.txt\")\n",
    "\n",
    "with open(train_path, \"w\", encoding=\"utf-8\") as f:\n",
    "    f.writelines(train_data)\n",
    "\n",
    "with open(dev_path, \"w\", encoding=\"utf-8\") as f:\n",
    "    f.writelines(dev_data)\n",
    "\n",
    "with open(test_path, \"w\", encoding=\"utf-8\") as f:\n",
    "    f.writelines(test_data)\n",
    "\n",
    "print(\n",
    "    f\"✅ Đã chia xong! Train: {len(train_data)}, Dev: {len(dev_data)}, Test: {len(test_data)}\")\n",
    "print(f\"📂 Dữ liệu đã lưu vào thư mục: {output_dir}\")"
   ]
  }
 ],
 "metadata": {
  "colab": {
   "authorship_tag": "ABX9TyNd1+xkc6Q/7wWV7L9cVGyD",
   "provenance": []
  },
  "kernelspec": {
   "display_name": ".venv",
   "language": "python",
   "name": "python3"
  },
  "language_info": {
   "codemirror_mode": {
    "name": "ipython",
    "version": 3
   },
   "file_extension": ".py",
   "mimetype": "text/x-python",
   "name": "python",
   "nbconvert_exporter": "python",
   "pygments_lexer": "ipython3",
   "version": "3.10.11"
  }
 },
 "nbformat": 4,
 "nbformat_minor": 0
}
